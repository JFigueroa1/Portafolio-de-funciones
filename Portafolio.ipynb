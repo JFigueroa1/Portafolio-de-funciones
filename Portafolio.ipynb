{
 "cells": [
  {
   "cell_type": "code",
   "execution_count": null,
   "metadata": {},
   "outputs": [],
   "source": [
    "#quitando outliers\n",
    "def no_outliers(x,y,w,z):\n",
    "    w.ix[w.z>x,:]\n",
    "    w=df.ix[w.z<y,:]\n",
    "    return w"
   ]
  },
  {
   "cell_type": "code",
   "execution_count": null,
   "metadata": {},
   "outputs": [],
   "source": [
    "#graficando outlires\n",
    "def graph_outliers(x):\n",
    "    for i in x:\n",
    "        plt.figure()\n",
    "        plt.clf()\n",
    "        plt.boxplot(list(x[i]))\n",
    "        plt.title(i)\n",
    "        plt.show()\n",
    "        return x"
   ]
  },
  {
   "cell_type": "code",
   "execution_count": null,
   "metadata": {},
   "outputs": [],
   "source": [
    "#graficando histogramas\n",
    "def hist_graphs(x,w):\n",
    "    sns.distplot(x[w])\n",
    "    return x"
   ]
  },
  {
   "cell_type": "code",
   "execution_count": null,
   "metadata": {},
   "outputs": [],
   "source": [
    "#train test split\n",
    "def train_test(x,y,q,z):\n",
    "    X_train, X_test, y_train, y_test = train_test_split(x, y, test_size=z, random_state=q)\n",
    "    return X_train, X_test, y_train, y_test"
   ]
  },
  {
   "cell_type": "code",
   "execution_count": null,
   "metadata": {},
   "outputs": [],
   "source": [
    "#linear regression\n",
    "def linear_regression(X_train,y_train,X_test,y_test):\n",
    "    reg = LinearRegression().fit(X_train, y_train)\n",
    "    predictions = reg.predict(X_test)\n",
    "    r2 = reg.score(X_test,y_test)\n",
    "    mse = mean_squared_error(y_test, predictions)\\\n",
    "    values = [r2, mse]\n",
    "    return values"
   ]
  },
  {
   "cell_type": "code",
   "execution_count": null,
   "metadata": {},
   "outputs": [],
   "source": [
    "#polynomial regression\n",
    "def polynomial_regression(X_train,y_train,X_test,y_test, i):\n",
    "    polynomial_features= PolynomialFeatures(degree=i)\n",
    "    x_poly = polynomial_features.fit_transform(X_train)\n",
    "    x_poly1 = polynomial_features.fit_transform(X_test)\n",
    "\n",
    "    model = LinearRegression()\n",
    "    model.fit(x_poly, y_train)\n",
    "    y_poly_pred = model.predict(x_poly1)\n",
    "\n",
    "    r2 = r2_score(y_test,y_poly_pred)\n",
    "    mean = mean_squared_error(y_test, y_poly_pred)\n",
    "    values = [r2, mean]\n",
    "    return values"
   ]
  },
  {
   "cell_type": "code",
   "execution_count": null,
   "metadata": {},
   "outputs": [],
   "source": [
    "#lasso regression\n",
    "def lasso_regression(X_train,y_train,X_test,y_test,i):\n",
    "    lasso_model_0 = Lasso(alpha=i, fit_intercept=True)\n",
    "    lasso_model_0.fit(X_train, y_train)\n",
    "    lasso_model_0.predict(X_test)\n",
    "    lasso = lasso_model_0.score(X_test, y_test)\n",
    "    return lasso"
   ]
  },
  {
   "cell_type": "code",
   "execution_count": null,
   "metadata": {},
   "outputs": [],
   "source": [
    "#ridge regression\n",
    "def ridge_regression(X_train,y_train,X_test,y_test,i):\n",
    "    ridge_model = Ridge(alpha=i, fit_intercept=True)\n",
    "    ridge_model.fit(X_train, y_train)\n",
    "    ridge_pred = ridge_model.predict(X_test)\n",
    "    ridge = ridge_model.score(X_test, y_test)\n",
    "    return ridge"
   ]
  },
  {
   "cell_type": "code",
   "execution_count": null,
   "metadata": {},
   "outputs": [],
   "source": [
    "#decision tree\n",
    "def Tree(X_train,y_train,X_test,y_test,i):\n",
    "    clf = DecisionTreeRegressor(max_depth=i)\n",
    "    clf = clf.fit(X_train, y_train)\n",
    "    y_pred = clf.predict(X_test)\n",
    "    r2 = r2_score(y_pred, y_test)\n",
    "    mse = mean_squared_error(y_test, y_pred)\n",
    "    tree = [r2, mse]\n",
    "    return tree"
   ]
  },
  {
   "cell_type": "code",
   "execution_count": null,
   "metadata": {},
   "outputs": [],
   "source": [
    "#random forest \n",
    "def random_forest (X_train,y_train,X_test,y_test,i,r):\n",
    "    clf = RandomForestRegressor(n_estimators=i, n_jobs=r)\n",
    "    clf.fit(X_train, y_train)\n",
    "    forest_preditions = clf.predict(X_test)\n",
    "    r2 = r2_score(y_test, forest_preditions)\n",
    "    mse = mean_squared_error(y_test, forest_preditions)\n",
    "    forest = [r2, mse]\n",
    "    return forest"
   ]
  },
  {
   "cell_type": "code",
   "execution_count": null,
   "metadata": {},
   "outputs": [],
   "source": [
    "#Adaboost regressor\n",
    "def adaboost(X_train,y_train,X_test,y_test,i,r):\n",
    "    AdaBoost = AdaBoostRegressor(n_estimators=i,learning_rate=r)\n",
    "    AdaBoost.fit(X_train,y_train)\n",
    "    c_pred_train = AdaBoost.score(X_train,y_train)\n",
    "    c_pred_test = AdaBoost.score(X_test,y_test)\n",
    "    ada = [c_pred_train, c_pred_test]\n",
    "    return ada"
   ]
  },
  {
   "cell_type": "code",
   "execution_count": null,
   "metadata": {},
   "outputs": [],
   "source": [
    "#XGBoost\n",
    "def xgboost(X_train,y_train,X_test,y_test,i,r):\n",
    "    dtrain = xgb.DMatrix(X_train, label=y_train)\n",
    "    dtest = xgb.DMatrix(X_test, label=y_test)\n",
    "    param = {'booster': 'gbtree', 'max_depth': r, 'eta': 0.8, 'gamma': .01} \n",
    "    num_round = i\n",
    "    bst = xgb.train(param, dtrain, num_round)\n",
    "    y_test_pred = bst.predict(dtest)\n",
    "    r2 = r2_score(y_test, y_test_pred))\n",
    "    mse = mean_squared_error(y_test, y_test_pred)\n",
    "    boost = [r2, mse]\n",
    "    return boost"
   ]
  },
  {
   "cell_type": "code",
   "execution_count": null,
   "metadata": {},
   "outputs": [],
   "source": [
    "#normality test\n",
    "def dev_standar(X):\n",
    "    stat, p = shapiro()\n",
    "    print('Statistics=%.3f, p=%.3f' % (stat, p))\n",
    "    alpha = 0.05\n",
    "    if p > alpha:\n",
    "        print('Sample looks Gaussian (fail to reject H0)')\n",
    "    else:\n",
    "        print('Sample does not look Gaussian (reject H0)')"
   ]
  },
  {
   "cell_type": "code",
   "execution_count": null,
   "metadata": {},
   "outputs": [],
   "source": [
    "#K-means\n",
    "def means(n,X):\n",
    "    clusters = KMeans(n_clusters=n).fit_predict(X)\n",
    "    return cluster"
   ]
  },
  {
   "cell_type": "code",
   "execution_count": null,
   "metadata": {},
   "outputs": [],
   "source": [
    "#linear discriminant analisis\n",
    "def lda(X_train,y_train,X_test,y_test):\n",
    "    sc = StandardScaler()\n",
    "    X_train = sc.fit_transform(X_train)\n",
    "    X_test = sc.fit_transform(X_test)\n",
    "\n",
    "\n",
    "    lda = LinearDiscriminantAnalysis()\n",
    "    train = lda.fit(X_train, y_train)\n",
    "    ld = lda.fit_transform(X_train, y_train)\n",
    "\n",
    "    lda_df = pd.DataFrame(data = ld, \n",
    "            columns = ['LDA1', 'LDA2'])\n",
    "    lda_df['Cluster'] = y_train\n",
    "    return lda_df"
   ]
  },
  {
   "cell_type": "code",
   "execution_count": null,
   "metadata": {},
   "outputs": [],
   "source": [
    "#logistic regression\n",
    "def logistic(X_train,y_train,X_test,y_test):\n",
    "    logisticRegr = LogisticRegression()\n",
    "    logisticRegr.fit(X_train, y_train)\n",
    "    x = logisticRegr.predict(Xtest)\n",
    "    logic = logisticRegr.score(x, y_test)\n",
    "    return logic"
   ]
  },
  {
   "cell_type": "code",
   "execution_count": null,
   "metadata": {},
   "outputs": [],
   "source": []
  }
 ],
 "metadata": {
  "kernelspec": {
   "display_name": "Python 3",
   "language": "python",
   "name": "python3"
  },
  "language_info": {
   "codemirror_mode": {
    "name": "ipython",
    "version": 3
   },
   "file_extension": ".py",
   "mimetype": "text/x-python",
   "name": "python",
   "nbconvert_exporter": "python",
   "pygments_lexer": "ipython3",
   "version": "3.6.4"
  }
 },
 "nbformat": 4,
 "nbformat_minor": 2
}
